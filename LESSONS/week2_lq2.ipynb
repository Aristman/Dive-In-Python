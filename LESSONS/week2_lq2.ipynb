{
 "cells": [
  {
   "cell_type": "code",
   "execution_count": 15,
   "metadata": {},
   "outputs": [
    {
     "name": "stdout",
     "output_type": "stream",
     "text": [
      "Повтор через 15 итераций\n"
     ]
    }
   ],
   "source": [
    "from random import randint\n",
    "\n",
    "random_number = randint(1,100)\n",
    "random_set = set()\n",
    "while random_number not in random_set:\n",
    "    random_set.add(random_number)\n",
    "    random_number = randint(1,100)\n",
    "\n",
    "print('Повтор через {} итераций'.format(len(random_set)))"
   ]
  },
  {
   "cell_type": "code",
   "execution_count": null,
   "metadata": {},
   "outputs": [],
   "source": []
  }
 ],
 "metadata": {
  "kernelspec": {
   "display_name": "Python 3",
   "language": "python",
   "name": "python3"
  },
  "language_info": {
   "codemirror_mode": {
    "name": "ipython",
    "version": 3
   },
   "file_extension": ".py",
   "mimetype": "text/x-python",
   "name": "python",
   "nbconvert_exporter": "python",
   "pygments_lexer": "ipython3",
   "version": "3.7.4"
  }
 },
 "nbformat": 4,
 "nbformat_minor": 4
}
